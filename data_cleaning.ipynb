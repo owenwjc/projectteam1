{
 "cells": [
  {
   "cell_type": "code",
   "execution_count": 1,
   "metadata": {},
   "outputs": [],
   "source": [
    "import pandas as pd\n",
    "import re\n",
    "from fuzzywuzzy import process"
   ]
  },
  {
   "cell_type": "code",
   "execution_count": 2,
   "metadata": {},
   "outputs": [],
   "source": [
    "inputpublicfile = 'data/student_admissions/public_admissions.csv'\n",
    "inputprivatefile = 'data/student_admissions/private_admissions.csv'\n",
    "outputfile = 'allschools.csv'"
   ]
  },
  {
   "cell_type": "code",
   "execution_count": 3,
   "metadata": {},
   "outputs": [
    {
     "name": "stderr",
     "output_type": "stream",
     "text": [
      "/var/folders/p0/cx2wcl6d7w79c__n36_zynk00000gn/T/ipykernel_17972/2465730649.py:1: DtypeWarning: Columns (3,4) have mixed types. Specify dtype option on import or set low_memory=False.\n",
      "  household_education = pd.read_csv('data/zip_data/household_education_level.csv')\n"
     ]
    }
   ],
   "source": [
    "household_education = pd.read_csv('data/zip_data/household_education_level.csv')\n",
    "household_income = pd.read_csv('data/zip_data/household_income_level.csv')\n",
    "public_admissions = pd.read_csv(inputpublicfile)\n",
    "private_admissions = pd.read_csv(inputprivatefile)\n",
    "zcta_to_zip = pd.read_csv('data/zip_data/ZCTA_to_ZIP.csv')\n",
    "high_schools = pd.read_csv('data/zip_data/high_schools.csv')"
   ]
  },
  {
   "cell_type": "code",
   "execution_count": 4,
   "metadata": {},
   "outputs": [],
   "source": [
    "# Drop census columns for error and annotations\n",
    "drop_cols_education = set(line.rstrip() for line in open('data/zip_data/drop_education.txt'))\n",
    "drop_cols_income = set(line.rstrip() for line in open('data/zip_data/drop_income.txt'))\n",
    "\n",
    "household_education = household_education.drop(columns=drop_cols_education)\n",
    "household_income = household_income.drop(columns=drop_cols_income)\n",
    "\n",
    "# pull in admissions data and pivot to get values for app/adm for each school\n",
    "public_admissions = (public_admissions.loc[(public_admissions['Uad Uc Ethn 6 Cat'] == 'All') & \n",
    "                                           (public_admissions['Count'] != 'Enr'), \n",
    "                                           ['City', 'School name', 'Count', 'Pivot Field Values']])\n",
    "private_admissions = (private_admissions.loc[(private_admissions['Uad Uc Ethn 6 Cat'] == 'All') &\n",
    "                                             (private_admissions['Count'] != 'Enr'),\n",
    "                                             ['City', 'School name', 'Count', 'Pivot Field Values']])\n",
    "\n",
    "public_admissions = public_admissions.pivot(columns = 'Count', values = 'Pivot Field Values', index = ['City', 'School name']).reset_index()\n",
    "private_admissions = private_admissions.pivot(columns = 'Count', values = 'Pivot Field Values', index = ['City', 'School name']).reset_index()"
   ]
  },
  {
   "cell_type": "code",
   "execution_count": 5,
   "metadata": {},
   "outputs": [],
   "source": [
    "mapvals = {'high': '', 'school': '', 'hs': '', 'junior/senior ': ' ', 'senior ': ' '}\n",
    "\n",
    "def clean_name(name):\n",
    "    name = name.lower()\n",
    "    for k, v in mapvals.items():\n",
    "        name = name.replace(k, v)\n",
    "\n",
    "    name = re.sub(r'\\bacad\\b', 'academy', name)\n",
    "\n",
    "    return name"
   ]
  },
  {
   "cell_type": "code",
   "execution_count": 6,
   "metadata": {},
   "outputs": [],
   "source": [
    "public_admissions['Match'] = public_admissions['School name'].apply(clean_name)\n",
    "private_admissions['Match'] = private_admissions['School name'].apply(clean_name)\n",
    "high_schools['Match'] = high_schools['School'].apply(clean_name)"
   ]
  },
  {
   "cell_type": "code",
   "execution_count": 7,
   "metadata": {},
   "outputs": [],
   "source": [
    "public = high_schools.loc[high_schools['Public Yes/No'] == 'Y']\n",
    "private = high_schools.loc[high_schools['Public Yes/No'] == 'N']\n",
    "\n",
    "public_admissions['Match'] = public_admissions.apply(lambda x: next(iter(process.extractOne(x['Match'], public.loc[public['Street City'] == x['City']]['Match'], score_cutoff=80) or []), None), axis=1)\n",
    "private_admissions['Match'] = private_admissions.apply(lambda x: next(iter(process.extractOne(x['Match'], private.loc[private['Street City'] == x['City']]['Match'], score_cutoff=80) or []), None), axis=1)"
   ]
  },
  {
   "cell_type": "code",
   "execution_count": 8,
   "metadata": {},
   "outputs": [],
   "source": [
    "publicdf = pd.merge(public_admissions, high_schools, how='left', left_on=['Match', 'City'], right_on=['Match', 'Street City'])\n",
    "privatedf = pd.merge(private_admissions, high_schools, how='left', left_on=['Match', 'City'], right_on=['Match', 'Street City'])"
   ]
  },
  {
   "cell_type": "code",
   "execution_count": 9,
   "metadata": {},
   "outputs": [
    {
     "data": {
      "text/plain": [
       "0.11142857142857143"
      ]
     },
     "execution_count": 9,
     "metadata": {},
     "output_type": "execute_result"
    }
   ],
   "source": [
    "len(privatedf.loc[privatedf['Street City'].isna()])/len(privatedf)"
   ]
  },
  {
   "cell_type": "code",
   "execution_count": 10,
   "metadata": {},
   "outputs": [
    {
     "data": {
      "text/plain": [
       "0.04194260485651214"
      ]
     },
     "execution_count": 10,
     "metadata": {},
     "output_type": "execute_result"
    }
   ],
   "source": [
    "len(publicdf.loc[publicdf['Street City'].isna()])/len(publicdf)"
   ]
  },
  {
   "cell_type": "code",
   "execution_count": 11,
   "metadata": {},
   "outputs": [],
   "source": [
    "publicdf = publicdf.loc[publicdf['Match'].notna()]\n",
    "privatedf = privatedf.loc[privatedf['Match'].notna()]\n",
    "\n",
    "df = pd.concat([publicdf, privatedf])\n",
    "df['Street Zip'] = df['Street Zip'].apply(lambda x: x[:5])\n",
    "\n",
    "zcta_to_zip = zcta_to_zip[['ZIP_CODE', 'ZCTA']]\n",
    "\n",
    "df = df[['School', 'City', 'App', 'Adm', 'Charter Yes/No', 'Public Yes/No', 'Street Zip']].astype({'Street Zip': int})\n",
    "df = pd.merge(df, zcta_to_zip, how='left', left_on='Street Zip', right_on='ZIP_CODE')\n",
    "df['Zip'] = df['ZCTA'].astype(int)\n",
    "df = df.drop(['Street Zip', 'ZIP_CODE', 'ZCTA'], axis=1)\n",
    "\n",
    "household_income['Geographic Area Name'] = household_income['Geographic Area Name'].apply(lambda x: int(x[5:]))\n",
    "household_education['Geographic Area Name'] = household_education['Geographic Area Name'].apply(lambda x: int(x[5:]))\n",
    "df = pd.merge(df, household_income, how='left', left_on='Zip', right_on='Geographic Area Name')\n",
    "df = pd.merge(df, household_education, how='left', left_on='Zip', right_on='Geographic Area Name')\n",
    "\n",
    "df.columns = df.columns.str.replace('Estimate!!Total:!!', '')\n",
    "df.columns = df.columns.str.replace('Estimate!!Households!!Total!!', '')\n",
    "df.columns = df.columns.str.replace('Estimate!!Households!!', '')"
   ]
  },
  {
   "cell_type": "code",
   "execution_count": 12,
   "metadata": {},
   "outputs": [],
   "source": [
    "# schoolGroups = {'some': ['No schooling completed', 'Nursery school', 'Kindergarten'],\n",
    "# 'elementary': ['1st grade', '2nd grade', '3rd grade', '4th grade', '5th grade'],\n",
    "# 'middle': ['6th grade', '7th grade', '8th grade'],\n",
    "# 'high': ['9th grade', '10th grade', '11th grade', '12th grade, no diploma', 'Regular high school diploma', 'GED or alternative credential'],\n",
    "# 'higher': ['Some college, less than 1 year', 'Some college, 1 or more years, no degree', 'Associate\\'s degree', 'Bachelor\\'s degree'],\n",
    "# 'grad': ['Master\\'s degree', 'Professional school degree', 'Doctorate degree']}\n",
    "\n",
    "schoolGroups = { 'none': ['No schooling completed'],\n",
    "'high': ['12th grade, no diploma', 'Regular high school diploma', 'GED or alternative credential'],\n",
    "'higher': ['Associate\\'s degree', 'Bachelor\\'s degree'],\n",
    "'grad': ['Master\\'s degree', 'Professional school degree', 'Doctorate degree']}\n",
    "\n",
    "for groupname, grouplist in schoolGroups.items():\n",
    "    df[groupname] = df[grouplist].sum(axis=1)/df['Estimate!!Total:']\n",
    "    df.drop(grouplist, axis=1, inplace=True)\n",
    "\n",
    "# schoolGroups = ['No schooling completed', 'Nursery school', 'Kindergarten',\n",
    "#                 '1st grade', '2nd grade', '3rd grade', '4th grade', '5th grade',\n",
    "#                 '6th grade', '7th grade', '8th grade',\n",
    "#                 '9th grade', '10th grade', '11th grade', '12th grade, no diploma', 'Regular high school diploma', 'GED or alternative credential',\n",
    "#                 'Some college, less than 1 year', 'Some college, 1 or more years, no degree', 'Associate\\'s degree', 'Bachelor\\'s degree', \n",
    "#                 'Master\\'s degree', 'Professional school degree', 'Doctorate degree']\n",
    "\n",
    "# for group in schoolGroups:\n",
    "#     df[group] = df[group]/df['Estimate!!Total:']\n",
    "\n",
    "df['Public Yes/No'] = df['Public Yes/No'].map({'Y': 1, 'N':0})\n",
    "df['Charter Yes/No'] = df['Charter Yes/No'].map({'Y': 1, 'N':0})"
   ]
  },
  {
   "cell_type": "code",
   "execution_count": 13,
   "metadata": {},
   "outputs": [],
   "source": [
    "keeplist = ['School', 'Public Yes/No', 'Charter Yes/No', 'App', 'Adm', 'Median income (dollars)', 'Total'] + list(schoolGroups.keys())\n",
    "#keeplist = ['School', 'Public Yes/No', 'Charter Yes/No', 'App', 'Adm', 'Median income (dollars)', 'Total'] + schoolGroups"
   ]
  },
  {
   "cell_type": "code",
   "execution_count": 14,
   "metadata": {},
   "outputs": [],
   "source": [
    "df = df.loc[df['Median income (dollars)'] != '-']\n",
    "df.loc[df['Median income (dollars)'] == '250,000+', 'Median income (dollars)'] = 250000\n",
    "df[keeplist].to_csv('data/merged/{}'.format(outputfile))"
   ]
  },
  {
   "cell_type": "code",
   "execution_count": 15,
   "metadata": {},
   "outputs": [
    {
     "data": {
      "text/plain": [
       "1706"
      ]
     },
     "execution_count": 15,
     "metadata": {},
     "output_type": "execute_result"
    }
   ],
   "source": [
    "len(public_admissions) + len(private_admissions)"
   ]
  },
  {
   "cell_type": "code",
   "execution_count": 16,
   "metadata": {},
   "outputs": [
    {
     "data": {
      "text/plain": [
       "1608"
      ]
     },
     "execution_count": 16,
     "metadata": {},
     "output_type": "execute_result"
    }
   ],
   "source": [
    "len(df)"
   ]
  }
 ],
 "metadata": {
  "kernelspec": {
   "display_name": "Python 3.10.4 ('vsenv')",
   "language": "python",
   "name": "python3"
  },
  "language_info": {
   "codemirror_mode": {
    "name": "ipython",
    "version": 3
   },
   "file_extension": ".py",
   "mimetype": "text/x-python",
   "name": "python",
   "nbconvert_exporter": "python",
   "pygments_lexer": "ipython3",
   "version": "3.10.4"
  },
  "orig_nbformat": 4,
  "vscode": {
   "interpreter": {
    "hash": "965703974363da09377a6c98e3794db51e4c246da2bbe586534ebc57c909699b"
   }
  }
 },
 "nbformat": 4,
 "nbformat_minor": 2
}
